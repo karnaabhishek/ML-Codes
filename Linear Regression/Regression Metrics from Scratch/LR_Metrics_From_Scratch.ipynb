{
  "nbformat": 4,
  "nbformat_minor": 0,
  "metadata": {
    "colab": {
      "name": "LR Metrics From Scratch.ipynb",
      "provenance": [],
      "collapsed_sections": []
    },
    "kernelspec": {
      "name": "python3",
      "display_name": "Python 3"
    },
    "language_info": {
      "name": "python"
    }
  },
  "cells": [
    {
      "cell_type": "code",
      "execution_count": 85,
      "metadata": {
        "id": "kZM8JRzWwfa9"
      },
      "outputs": [],
      "source": [
        "class LRMetrics:\n",
        "\n",
        "  def MAE(self,y_test,y_pred):\n",
        "    mae = 0\n",
        "    for i in range(y_test.shape[0]):\n",
        "      mae = mae + abs(y_test[i]-y_pred[i])*(1/y_test.shape[0])\n",
        "    print(mae)\n",
        "\n",
        "  def MSE(self,y_test,y_pred):\n",
        "    mse = 0\n",
        "    for i in range(y_test.shape[0]):\n",
        "      mse = mse + ((y_test[i]-y_pred[i])**2)*(1/y_test.shape[0])\n",
        "    print(mse)\n",
        "\n",
        "  def RMSE(self,y_test,y_pred):\n",
        "    rmse = 0\n",
        "    for i in range(y_test.shape[0]):\n",
        "      rmse = rmse + ((y_test[i]-y_pred[i])**2)*(1/y_test.shape[0])\n",
        "    print(rmse**0.5)\n",
        "\n",
        "  def R2(self,y_test,y_pred):\n",
        "    den = 0\n",
        "    num = 0\n",
        "    mean = np.mean(y_test)\n",
        "    for i in range(y_test.shape[0]):\n",
        "      den = den + (y_test[i]-mean)**2\n",
        "      num = num + (y_test[i]-y_pred[i])**2\n",
        "      ratio = num/den\n",
        "      r2 = 1-ratio\n",
        "    print(r2)\n",
        "\n"
      ]
    },
    {
      "cell_type": "code",
      "source": [
        "import matplotlib.pyplot as plt\n",
        "import pandas as pd\n",
        "import numpy as np\n",
        "df = pd.read_csv('placement.csv')\n",
        "X = df.iloc[:,0:1]\n",
        "y = df.iloc[:,-1]\n",
        "from sklearn.model_selection import train_test_split\n",
        "X_train,X_test,y_train,y_test = train_test_split(X,y,test_size=0.2,random_state=2)\n",
        "from sklearn.linear_model import LinearRegression\n",
        "lr = LinearRegression()\n",
        "lr.fit(X_train,y_train)\n",
        "y_pred = lr.predict(X_test)"
      ],
      "metadata": {
        "id": "P8tcR3lmwz8D"
      },
      "execution_count": 86,
      "outputs": []
    },
    {
      "cell_type": "code",
      "source": [
        "metrics  = LRMetrics()"
      ],
      "metadata": {
        "id": "bhME104JxCv1"
      },
      "execution_count": 87,
      "outputs": []
    },
    {
      "cell_type": "code",
      "source": [
        "y_test = y_test.to_numpy()"
      ],
      "metadata": {
        "id": "w3LonyCrxiK_"
      },
      "execution_count": 88,
      "outputs": []
    },
    {
      "cell_type": "code",
      "source": [
        "metrics.MAE(y_test,y_pred)"
      ],
      "metadata": {
        "colab": {
          "base_uri": "https://localhost:8080/"
        },
        "id": "yx5DcOSD1_Eh",
        "outputId": "d05024f7-8c20-4e34-ca24-562982c69755"
      },
      "execution_count": 89,
      "outputs": [
        {
          "output_type": "stream",
          "name": "stdout",
          "text": [
            "0.28847109318781744\n"
          ]
        }
      ]
    },
    {
      "cell_type": "code",
      "source": [
        "metrics.MSE(y_test,y_pred)"
      ],
      "metadata": {
        "colab": {
          "base_uri": "https://localhost:8080/"
        },
        "id": "g9eG2jCr2kaQ",
        "outputId": "e1c4ceb9-e238-465a-a163-30c6448a0fae"
      },
      "execution_count": 90,
      "outputs": [
        {
          "output_type": "stream",
          "name": "stdout",
          "text": [
            "0.12129235313495532\n"
          ]
        }
      ]
    },
    {
      "cell_type": "code",
      "source": [
        "metrics.RMSE(y_test,y_pred)"
      ],
      "metadata": {
        "colab": {
          "base_uri": "https://localhost:8080/"
        },
        "id": "Ix7_YcxC3yR5",
        "outputId": "c40e1e0e-8bca-4c26-bd48-1b47b40c506d"
      },
      "execution_count": 91,
      "outputs": [
        {
          "output_type": "stream",
          "name": "stdout",
          "text": [
            "0.3482705171773162\n"
          ]
        }
      ]
    },
    {
      "cell_type": "code",
      "source": [
        "metrics.R2(y_test,y_pred)"
      ],
      "metadata": {
        "colab": {
          "base_uri": "https://localhost:8080/"
        },
        "id": "PZfpMJ4u4Kij",
        "outputId": "33787b35-f7fc-43d6-8eb9-337c641635fc"
      },
      "execution_count": 92,
      "outputs": [
        {
          "output_type": "stream",
          "name": "stdout",
          "text": [
            "0.780730147510384\n"
          ]
        }
      ]
    }
  ]
}