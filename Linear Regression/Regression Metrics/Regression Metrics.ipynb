{
  "nbformat": 4,
  "nbformat_minor": 0,
  "metadata": {
    "colab": {
      "name": "Untitled7.ipynb",
      "provenance": []
    },
    "kernelspec": {
      "name": "python3",
      "display_name": "Python 3"
    },
    "language_info": {
      "name": "python"
    }
  },
  "cells": [
    {
      "cell_type": "code",
      "execution_count": 1,
      "metadata": {
        "colab": {
          "base_uri": "https://localhost:8080/",
          "height": 279
        },
        "id": "dTSTawYBuDXC",
        "outputId": "c81a96f8-6ad3-422e-908f-503f40eb9cf8"
      },
      "outputs": [
        {
          "output_type": "display_data",
          "data": {
            "image/png": "[encoded data removed]",
            "text/plain": [
              "<Figure size 432x288 with 1 Axes>"
            ]
          },
          "metadata": {
            "needs_background": "light"
          }
        }
      ],
      "source": [
        "import matplotlib.pyplot as plt\n",
        "import pandas as pd\n",
        "import numpy as np\n",
        "df = pd.read_csv('placement.csv')\n",
        "X = df.iloc[:,0:1]\n",
        "y = df.iloc[:,-1]\n",
        "from sklearn.model_selection import train_test_split\n",
        "X_train,X_test,y_train,y_test = train_test_split(X,y,test_size=0.2,random_state=2)\n",
        "from sklearn.linear_model import LinearRegression\n",
        "lr = LinearRegression()\n",
        "lr.fit(X_train,y_train)\n",
        "plt.scatter(df['cgpa'],df['package'])\n",
        "plt.plot(X_train,lr.predict(X_train),color='red')\n",
        "plt.xlabel('CGPA')\n",
        "plt.ylabel('Package(in lpa)')\n",
        "from sklearn.metrics import mean_absolute_error,mean_squared_error,r2_score\n",
        "y_pred = lr.predict(X_test)"
      ]
    },
    {
      "cell_type": "markdown",
      "source": [
        "Mean Absolute Error"
      ],
      "metadata": {
        "id": "nTtb-7XQuv_2"
      }
    },
    {
      "cell_type": "code",
      "source": [
        "print(\"MAE\",mean_absolute_error(y_test,y_pred))"
      ],
      "metadata": {
        "colab": {
          "base_uri": "https://localhost:8080/"
        },
        "id": "pZj4ZqnduzOP",
        "outputId": "aa0d1d90-18cb-4233-9ee0-3da72d624ef2"
      },
      "execution_count": 2,
      "outputs": [
        {
          "output_type": "stream",
          "name": "stdout",
          "text": [
            "MAE 0.2884710931878175\n"
          ]
        }
      ]
    },
    {
      "cell_type": "markdown",
      "source": [
        "Mean Squared Error"
      ],
      "metadata": {
        "id": "N26ajRh_u4Al"
      }
    },
    {
      "cell_type": "code",
      "source": [
        "print(\"MSE\",mean_squared_error(y_test,y_pred))"
      ],
      "metadata": {
        "colab": {
          "base_uri": "https://localhost:8080/"
        },
        "id": "ACj7uQPsu2l5",
        "outputId": "616ad6b0-8338-4d80-a769-0fedab9f12b6"
      },
      "execution_count": 3,
      "outputs": [
        {
          "output_type": "stream",
          "name": "stdout",
          "text": [
            "MSE 0.12129235313495527\n"
          ]
        }
      ]
    },
    {
      "cell_type": "markdown",
      "source": [
        "Root Mean Squared Error"
      ],
      "metadata": {
        "id": "W-dTU4uNu-Nc"
      }
    },
    {
      "cell_type": "code",
      "source": [
        "print(\"RMSE\",np.sqrt(mean_squared_error(y_test,y_pred)))"
      ],
      "metadata": {
        "colab": {
          "base_uri": "https://localhost:8080/"
        },
        "id": "ZXZY9QDPu7SH",
        "outputId": "f4525eb1-0d95-4562-cb2e-d0af215ebc69"
      },
      "execution_count": 4,
      "outputs": [
        {
          "output_type": "stream",
          "name": "stdout",
          "text": [
            "RMSE 0.34827051717731616\n"
          ]
        }
      ]
    },
    {
      "cell_type": "markdown",
      "source": [
        "R2 Score"
      ],
      "metadata": {
        "id": "JO2p8kC9vIy0"
      }
    },
    {
      "cell_type": "code",
      "source": [
        "print(\"R2 Score\",r2_score(y_test,y_pred))"
      ],
      "metadata": {
        "colab": {
          "base_uri": "https://localhost:8080/"
        },
        "id": "VybajgvyvDZ0",
        "outputId": "be8bf72a-8afa-49d9-f8f5-b2909eb9d50c"
      },
      "execution_count": 5,
      "outputs": [
        {
          "output_type": "stream",
          "name": "stdout",
          "text": [
            "R2 Score 0.780730147510384\n"
          ]
        }
      ]
    },
    {
      "cell_type": "markdown",
      "source": [
        "Adjusted R2 Score"
      ],
      "metadata": {
        "id": "A3lNWoePvSX0"
      }
    },
    {
      "cell_type": "code",
      "source": [
        "X_test.shape"
      ],
      "metadata": {
        "colab": {
          "base_uri": "https://localhost:8080/"
        },
        "id": "aaEhjCBUvO4L",
        "outputId": "1d1bbc04-51b2-4163-94c2-6d38e0bca168"
      },
      "execution_count": 6,
      "outputs": [
        {
          "output_type": "execute_result",
          "data": {
            "text/plain": [
              "(40, 1)"
            ]
          },
          "metadata": {},
          "execution_count": 6
        }
      ]
    },
    {
      "cell_type": "code",
      "source": [
        "r2 = r2_score(y_test,y_pred)\n",
        "adj  =  1 - ((1-r2)*(40-1)/(40-1-1))\n",
        "print(\" Adjusted R2 Score\",adj)"
      ],
      "metadata": {
        "colab": {
          "base_uri": "https://localhost:8080/"
        },
        "id": "FtwnQNhbvWiY",
        "outputId": "4fcdca20-87db-4659-d22d-f5a9ee08ea29"
      },
      "execution_count": 7,
      "outputs": [
        {
          "output_type": "stream",
          "name": "stdout",
          "text": [
            " Adjusted R2 Score 0.7749598882343415\n"
          ]
        }
      ]
    },
    {
      "cell_type": "markdown",
      "source": [
        "Check the variation in R2 and adjusted R2 for random features"
      ],
      "metadata": {
        "id": "tVfqu06zwBwn"
      }
    }
  ]
}