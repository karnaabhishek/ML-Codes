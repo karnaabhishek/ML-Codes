{
  "nbformat": 4,
  "nbformat_minor": 0,
  "metadata": {
    "colab": {
      "name": "Cats and Dogs Classification using Naive Bayes.ipynb",
      "provenance": []
    },
    "kernelspec": {
      "name": "python3",
      "display_name": "Python 3"
    },
    "language_info": {
      "name": "python"
    }
  },
  "cells": [
    {
      "cell_type": "code",
      "execution_count": 39,
      "metadata": {
        "id": "vYUag10f2MTj"
      },
      "outputs": [],
      "source": [
        "import os\n",
        "import numpy as np\n",
        "import cv2\n",
        "import matplotlib.pyplot as pt\n",
        "import pickle # it is used to deal with file\n",
        "import random\n",
        "from sklearn.model_selection import train_test_split\n",
        "from sklearn.naive_bayes import GaussianNB"
      ]
    },
    {
      "cell_type": "code",
      "source": [
        "dir = '/content/drive/MyDrive/data'\n",
        "categories = ['Cat','Dog']\n",
        "data = []\n",
        "for category in categories:\n",
        "    path=os.path.join(dir,category) # It join category which is cat and dog in  path\n",
        "    label = categories.index(category) # it give label of categories i.e 1 and 0\n",
        "    \n",
        "\n",
        "    for pic in os.listdir(path):\n",
        "        imgpath = os.path.join(path,pic) # it gives path of image\n",
        "        img = cv2.imread(imgpath,0)\n",
        "        try:\n",
        "           img = cv2.resize(img,(50,50))\n",
        "           image = np.array(img).flatten() # conversion of 2D array in 1D\n",
        "           data.append([image,label])  # 9\n",
        "        except Exception as e:\n",
        "            pass\n"
      ],
      "metadata": {
        "id": "NhpwwPoa3COf"
      },
      "execution_count": 3,
      "outputs": []
    },
    {
      "cell_type": "code",
      "source": [
        "file = open('data.pickle','wb')\n",
        "pickle.dump(data,file)\n",
        "file.close\n",
        "cv2.waitKey(0)\n",
        "cv2.destroyAllWindows()"
      ],
      "metadata": {
        "id": "WOe5TYvJ3bhY"
      },
      "execution_count": 4,
      "outputs": []
    },
    {
      "cell_type": "code",
      "source": [
        "file = open('data.pickle','rb')\n",
        "data = pickle.load(file)\n",
        "file.close"
      ],
      "metadata": {
        "id": "aZb0aVeQ3eiP",
        "colab": {
          "base_uri": "https://localhost:8080/"
        },
        "outputId": "c8697c91-0def-4a7e-ed33-b25b72fe3132"
      },
      "execution_count": 5,
      "outputs": [
        {
          "output_type": "execute_result",
          "data": {
            "text/plain": [
              "<function BufferedReader.close>"
            ]
          },
          "metadata": {},
          "execution_count": 5
        }
      ]
    },
    {
      "cell_type": "code",
      "source": [
        "random.shuffle(data)\n",
        "features=[]\n",
        "labels = []\n",
        "\n",
        "for feature,label in data:\n",
        "    features.append(feature)\n",
        "    labels.append(label)"
      ],
      "metadata": {
        "id": "k5o4BQ0y3hWR"
      },
      "execution_count": 6,
      "outputs": []
    },
    {
      "cell_type": "code",
      "source": [
        "\n",
        "xtrain,xtest,ytrain,ytest = train_test_split(features,labels,test_size=0.20)\n",
        "# creating Model\n",
        "\n",
        "clf = GaussianNB()\n",
        "\n",
        "clf.fit(xtrain, ytrain)"
      ],
      "metadata": {
        "colab": {
          "base_uri": "https://localhost:8080/"
        },
        "id": "frDY7XEA3_uv",
        "outputId": "3af7e2ee-ca56-486c-95b5-53798fc6b318"
      },
      "execution_count": 41,
      "outputs": [
        {
          "output_type": "execute_result",
          "data": {
            "text/plain": [
              "GaussianNB()"
            ]
          },
          "metadata": {},
          "execution_count": 41
        }
      ]
    },
    {
      "cell_type": "code",
      "source": [
        "random.shuffle(data)\n",
        "xtrain,xtest,ytrain,ytest = train_test_split(features,labels,test_size=0.20)\n",
        "predict = clf.predict(xtest)\n",
        "accuracy = clf.score(xtest, ytest)\n",
        "categories = ['cats', 'dogs']\n",
        "print('accuracy : ', accuracy)\n",
        "print('prediction is : ', categories[predict[3]])\n",
        "mypet = xtest[3].reshape(50,50)\n",
        "pt.imshow(mypet, cmap= 'gray')\n",
        "pt.show"
      ],
      "metadata": {
        "colab": {
          "base_uri": "https://localhost:8080/",
          "height": 322
        },
        "id": "xgU2-JtV4EEe",
        "outputId": "8de438fb-2204-43f4-9cd0-142d8cd87026"
      },
      "execution_count": 44,
      "outputs": [
        {
          "output_type": "stream",
          "name": "stdout",
          "text": [
            "accuracy :  0.5814877910278251\n",
            "prediction is :  dogs\n"
          ]
        },
        {
          "output_type": "execute_result",
          "data": {
            "text/plain": [
              "<function matplotlib.pyplot.show>"
            ]
          },
          "metadata": {},
          "execution_count": 44
        },
        {
          "output_type": "display_data",
          "data": {
            "text/plain": [
              "<Figure size 432x288 with 1 Axes>"
            ],
            "image/png": "[encoded data removed]"
          },
          "metadata": {
            "needs_background": "light"
          }
        }
      ]
    },
    {
      "cell_type": "code",
      "source": [
        "from sklearn.metrics import confusion_matrix"
      ],
      "metadata": {
        "id": "wfHpUMEx4YAW"
      },
      "execution_count": 45,
      "outputs": []
    },
    {
      "cell_type": "code",
      "source": [
        "cf = confusion_matrix(ytest, predict)"
      ],
      "metadata": {
        "id": "F6N5I2TFVUEv"
      },
      "execution_count": 18,
      "outputs": []
    },
    {
      "cell_type": "code",
      "source": [
        "import seaborn as sns\n",
        "sns.heatmap(cf, annot=True)"
      ],
      "metadata": {
        "colab": {
          "base_uri": "https://localhost:8080/",
          "height": 284
        },
        "id": "FuqFPPUuVja9",
        "outputId": "42dd7b9d-269f-4ff9-8a98-62cb5ee6723c"
      },
      "execution_count": 19,
      "outputs": [
        {
          "output_type": "execute_result",
          "data": {
            "text/plain": [
              "<matplotlib.axes._subplots.AxesSubplot at 0x7fd7a797dbd0>"
            ]
          },
          "metadata": {},
          "execution_count": 19
        },
        {
          "output_type": "display_data",
          "data": {
            "text/plain": [
              "<Figure size 432x288 with 2 Axes>"
            ],
            "image/png": "[encoded data removed]"
          },
          "metadata": {
            "needs_background": "light"
          }
        }
      ]
    },
    {
      "cell_type": "code",
      "source": [
        ""
      ],
      "metadata": {
        "id": "AbhTjbzFV_j5"
      },
      "execution_count": null,
      "outputs": []
    }
  ]
}